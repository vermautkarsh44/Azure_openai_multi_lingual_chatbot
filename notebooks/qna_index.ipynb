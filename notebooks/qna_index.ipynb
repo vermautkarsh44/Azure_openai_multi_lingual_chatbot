{
 "cells": [
  {
   "cell_type": "code",
   "execution_count": 5,
   "metadata": {},
   "outputs": [],
   "source": [
    "import os\n",
    "import json\n",
    "import uuid\n",
    "from azure.core.credentials import AzureKeyCredential\n",
    "from azure.search.documents.indexes import SearchIndexClient \n",
    "from azure.search.documents import SearchClient\n",
    "from azure.search.documents.indexes.models import (\n",
    "    CorsOptions,\n",
    "    SearchIndex,\n",
    "    SearchFieldDataType,\n",
    "    SimpleField,\n",
    "    SearchableField,\n",
    "    SearchField,\n",
    "    VectorSearch,\n",
    "    VectorSearchAlgorithmConfiguration,\n",
    "    SemanticConfiguration,\n",
    "    PrioritizedFields,\n",
    "    SemanticField,\n",
    "    SemanticSettings,\n",
    ")\n",
    "import re"
   ]
  },
  {
   "cell_type": "code",
   "execution_count": null,
   "metadata": {},
   "outputs": [],
   "source": [
    "admin_key = \"\"\n",
    "endpoint = ''"
   ]
  },
  {
   "cell_type": "code",
   "execution_count": null,
   "metadata": {},
   "outputs": [],
   "source": [
    "index_name = 'ct_miner_multi_lingual_index'\n",
    "\n",
    "fields= [\n",
    "            SimpleField(name=\"id\", type=SearchFieldDataType.String, key=True),\n",
    "            SearchableField(name=\"pdf_name\", type=SearchFieldDataType.String, filterable=True),\n",
    "            SearchableField(name=\"content\", type=SearchFieldDataType.String, filterable=True),\n",
    "            SearchField(name=\"content_vector\", type=SearchFieldDataType.Collection(SearchFieldDataType.Single),\n",
    "                        searchable=True, vector_search_dimensions=1536, vector_search_configuration=\"my-vector-config\")\n",
    "]\n",
    "\n",
    "cors_options = CorsOptions(allowed_origins=[\"*\"], max_age_in_seconds=60)"
   ]
  },
  {
   "cell_type": "code",
   "execution_count": null,
   "metadata": {},
   "outputs": [],
   "source": [
    "vector_search = VectorSearch(\n",
    "    algorithm_configurations=[\n",
    "        VectorSearchAlgorithmConfiguration(\n",
    "            name='my-vector-config',\n",
    "            kind='hnsw',\n",
    "            hnsw_parameters={\n",
    "                \"m\": 4,\n",
    "                \"efConstruction\": 400,\n",
    "                \"efSearch\": 500,\n",
    "                \"metric\": 'cosine',\n",
    "            }\n",
    "        )\n",
    "    ]\n",
    ")"
   ]
  },
  {
   "cell_type": "code",
   "execution_count": null,
   "metadata": {},
   "outputs": [],
   "source": [
    "index = SearchIndex(\n",
    "    name=index_name,\n",
    "    fields=fields,\n",
    "    cors_options=cors_options,\n",
    "    vector_search=vector_search\n",
    ")"
   ]
  },
  {
   "cell_type": "code",
   "execution_count": null,
   "metadata": {},
   "outputs": [],
   "source": [
    "admin_client = SearchIndexClient(\n",
    "                                    endpoint=endpoint,\n",
    "                                    index_name=index_name,\n",
    "                                    credential=AzureKeyCredential(admin_key)\n",
    "                                 ) \n",
    "\n",
    "search_client = SearchClient(endpoint=endpoint,\n",
    "                      index_name=index_name,\n",
    "                      credential=AzureKeyCredential(admin_key))"
   ]
  },
  {
   "cell_type": "code",
   "execution_count": null,
   "metadata": {},
   "outputs": [],
   "source": [
    "admin_client.create_or_update_index(index)"
   ]
  },
  {
   "cell_type": "code",
   "execution_count": null,
   "metadata": {},
   "outputs": [],
   "source": [
    "files = os.listdir('../data/scraped_data/all_data_chunked/')\n",
    "batch_size = 10"
   ]
  },
  {
   "cell_type": "code",
   "execution_count": null,
   "metadata": {},
   "outputs": [],
   "source": [
    "count=0\n",
    "\n",
    "for file in files:\n",
    "    with open(f\"../data/all_chunked_data/{file}\") as f:\n",
    "        d=json.load(f)\n",
    "    count+=len(d['content'])"
   ]
  },
  {
   "cell_type": "code",
   "execution_count": null,
   "metadata": {},
   "outputs": [],
   "source": [
    "ids=set()\n",
    "count=[]\n",
    "for i in range(0, len(files), batch_size):\n",
    "    batch=files[i:i+batch_size]\n",
    "    res=[]\n",
    "    for file in batch:\n",
    "        with open(f'../data/scraped_data/all_data_chunked/{file}') as f:\n",
    "            d=json.load(f)\n",
    "\n",
    "        for j in range(len(d['content'])):\n",
    "            a=d.copy()\n",
    "\n",
    "            id = file.split('.')[0]+f\"_{j}\"\n",
    "\n",
    "            a['id'] = id\n",
    "            a['content'] = d['content'][j]\n",
    "            a['content_vector'] = d['content_vector'][j]\n",
    "\n",
    "            res.append(a)\n",
    "            if(id in ids):\n",
    "                print('error')\n",
    "            ids.add(id)\n",
    "            \n",
    "    search_client.upload_documents(documents=res)\n",
    "    count.append(len(res))\n",
    "    print(len(res),'done')"
   ]
  },
  {
   "cell_type": "code",
   "execution_count": null,
   "metadata": {},
   "outputs": [],
   "source": [
    "results = search_client.search(search_text=\"*\", select=[\"id\"])\n",
    "item_ids = [result[\"id\"] for result in results]"
   ]
  },
  {
   "cell_type": "code",
   "execution_count": null,
   "metadata": {},
   "outputs": [],
   "source": [
    "s=set(item_ids)\n",
    "\n",
    "failed_ids=[]\n",
    "for i in ids:\n",
    "    if(i not in s):\n",
    "        failed_ids.append(i)\n",
    "\n",
    "print(failed_ids)"
   ]
  },
  {
   "cell_type": "code",
   "execution_count": null,
   "metadata": {},
   "outputs": [],
   "source": [
    "res=[]\n",
    "\n",
    "for id in failed_ids:\n",
    "    file=id.split('.')[0]\n",
    "    chunk_id=int(id.split('_')[1])\n",
    "    print(id, file, chunk_id)\n",
    "    with open(f'../data/scraped_data/all_data_chunked/{file}.json') as f:\n",
    "        d=json.load(f)\n",
    "    a=d.copy()\n",
    "    a['id'] = id\n",
    "    a['content'] = re.sub(r'\\ {6,}', '    ', d['content'][chunk_id])\n",
    "    a['content_vector'] = d['content_vector'][chunk_id]\n",
    "    res.append(a)"
   ]
  },
  {
   "cell_type": "code",
   "execution_count": null,
   "metadata": {},
   "outputs": [],
   "source": [
    "ans=search_client.upload_documents(documents=res)"
   ]
  },
  {
   "cell_type": "code",
   "execution_count": null,
   "metadata": {},
   "outputs": [],
   "source": []
  }
 ],
 "metadata": {
  "kernelspec": {
   "display_name": "venv_ct_miner_ml",
   "language": "python",
   "name": "python3"
  },
  "language_info": {
   "codemirror_mode": {
    "name": "ipython",
    "version": 3
   },
   "file_extension": ".py",
   "mimetype": "text/x-python",
   "name": "python",
   "nbconvert_exporter": "python",
   "pygments_lexer": "ipython3",
   "version": "3.10.10"
  }
 },
 "nbformat": 4,
 "nbformat_minor": 2
}
