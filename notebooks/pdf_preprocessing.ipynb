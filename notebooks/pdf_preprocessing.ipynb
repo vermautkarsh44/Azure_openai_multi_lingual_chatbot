{
 "cells": [
  {
   "cell_type": "code",
   "execution_count": 2,
   "metadata": {},
   "outputs": [],
   "source": [
    "import sys\n",
    "sys.path.append('../')\n",
    "\n",
    "import os\n",
    "import random\n",
    "import json\n",
    "from src.azure_form_recognizer import FormRecognizer\n",
    "from tqdm import tqdm\n",
    "import uuid\n",
    "import pandas as pd"
   ]
  },
  {
   "cell_type": "code",
   "execution_count": 8,
   "metadata": {},
   "outputs": [],
   "source": [
    "with open('../data/name_uuid_mapping.json') as f:\n",
    "    name_uuid_mapping=json.load(f)"
   ]
  },
  {
   "cell_type": "code",
   "execution_count": 9,
   "metadata": {},
   "outputs": [
    {
     "data": {
      "text/plain": [
       "{'demo': 'fe5fcec60f5442f69cd1f71bdba5f44f'}"
      ]
     },
     "execution_count": 9,
     "metadata": {},
     "output_type": "execute_result"
    }
   ],
   "source": [
    "name_uuid_mapping"
   ]
  },
  {
   "cell_type": "code",
   "execution_count": 14,
   "metadata": {},
   "outputs": [
    {
     "name": "stdout",
     "output_type": "stream",
     "text": [
      "['ABSLI-Assured-Savings-Plan-Brochure-Web-Version-V07.pdf'] \n",
      " ['../data/pdf_data/ABSLI-Assured-Savings-Plan-Brochure-Web-Version-V07.pdf']\n"
     ]
    }
   ],
   "source": [
    "pdfs=[]\n",
    "pdf_paths=[]\n",
    "\n",
    "for i in os.listdir('../data/pdf_data/'):\n",
    "    if (i not in name_uuid_mapping):\n",
    "        pdfs.append(i)\n",
    "        pdf_paths.append('../data/pdf_data/'+i)\n",
    "print(pdfs, \"\\n\", pdf_paths)"
   ]
  },
  {
   "cell_type": "code",
   "execution_count": 13,
   "metadata": {},
   "outputs": [],
   "source": [
    "for pdf_path, pdf in zip(pdf_paths, pdfs):\n",
    "    if (pdf != pdf_path.split('/')[-1]):\n",
    "        print('fail')"
   ]
  },
  {
   "cell_type": "code",
   "execution_count": null,
   "metadata": {},
   "outputs": [],
   "source": [
    "text_extractor = FormRecognizer('','')"
   ]
  },
  {
   "cell_type": "code",
   "execution_count": null,
   "metadata": {},
   "outputs": [],
   "source": [
    "res={}\n",
    "ids=set(name_uuid_mapping.values())\n",
    "\n",
    "for pdf_path, pdf in tqdm(zip(pdf_paths, pdfs)):\n",
    "    pages=text_extractor.extract_content_from_pdf(pdf_path)\n",
    "    content='\\n\\n'.join(pages)\n",
    "    name=pdf.split('.')[0]\n",
    "    if (content==''):\n",
    "        print(f\"{pdf} skipped due to no content!\")\n",
    "        continue\n",
    "\n",
    "    id = uuid.uuid4().hex\n",
    "    while(id in ids):\n",
    "        print('id re-generated')\n",
    "        id=uuid.uuid4().hex\n",
    "\n",
    "    name_uuid_mapping[name]=id\n",
    "\n",
    "    with open(f'../data/scrapped_data/{id}.json', 'w') as f:\n",
    "        json.dump(\n",
    "            {\n",
    "               'name': name,\n",
    "               'content': content.strip() \n",
    "            }, f\n",
    "        )\n",
    "    ids.add(id)"
   ]
  },
  {
   "cell_type": "code",
   "execution_count": null,
   "metadata": {},
   "outputs": [],
   "source": [
    "with open('../data/name_uuid_mapping.json','w') as f:\n",
    "    json.dump(name_uuid_mapping, f)"
   ]
  },
  {
   "cell_type": "code",
   "execution_count": null,
   "metadata": {},
   "outputs": [],
   "source": []
  }
 ],
 "metadata": {
  "kernelspec": {
   "display_name": "venv_ct_miner_ml",
   "language": "python",
   "name": "python3"
  },
  "language_info": {
   "codemirror_mode": {
    "name": "ipython",
    "version": 3
   },
   "file_extension": ".py",
   "mimetype": "text/x-python",
   "name": "python",
   "nbconvert_exporter": "python",
   "pygments_lexer": "ipython3",
   "version": "3.10.10"
  }
 },
 "nbformat": 4,
 "nbformat_minor": 2
}
