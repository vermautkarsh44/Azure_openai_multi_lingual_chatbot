{
 "cells": [
  {
   "cell_type": "code",
   "execution_count": null,
   "metadata": {},
   "outputs": [],
   "source": [
    "import sys\n",
    "sys.path.append('../')\n",
    "\n",
    "from src.azure_cosmos_db import AzureCosmos\n",
    "from src.config import COSMOS_ENDPOINT, COSMOS_KEY, COSMOS_DATABASE_NAME\n",
    "\n",
    "import openai\n",
    "from azure.search.documents import SearchClient\n",
    "from azure.core.credentials import AzureKeyCredential\n",
    "import ast\n",
    "import re\n",
    "import uuid\n",
    "import json\n",
    "import time\n",
    "from IPython.display import Markdown, display\n",
    "\n",
    "def printmd(string):\n",
    "    display(Markdown(string))\n",
    "\n",
    "openai.api_key  = ''\n",
    "openai.api_type = 'azure'\n",
    "openai.api_base = ''\n",
    "openai.api_version = ''"
   ]
  },
  {
   "cell_type": "code",
   "execution_count": null,
   "metadata": {},
   "outputs": [],
   "source": [
    "def get_context(query):\n",
    "    openai.api_key  = '9fcf6b05a5a44a4ebbf4daa0979eae1e'\n",
    "    openai.api_type = 'azure'\n",
    "    openai.api_base = 'https://openai-ct.openai.azure.com/'\n",
    "    openai.api_version = '2023-03-15-preview'\n",
    "    \n",
    "    start=time.time()\n",
    "    query_vector=openai.Embedding.create(input=query,engine='text-embedding-ada-002')['data'][0]['embedding']\n",
    "    end=time.time()\n",
    "    print(end-start,'s')\n",
    "    results=search_client.search(\n",
    "        search_text=None,\n",
    "        vector=query_vector,\n",
    "        top_k=3,\n",
    "        vector_fields=\"contentVector\",\n",
    "        select=['source','content'],\n",
    ")\n",
    "    results=list(results)\n",
    "    contents = []\n",
    "    for result in results:\n",
    "        content = f'''Source URL: ```{result['source']}```\n",
    "Content: ```{result['content'].replace('#','').replace('*','')}```'''\n",
    "        contents.append(content)\n",
    "\n",
    "    relevant_content = '\\n##########\\n'.join(contents)\n",
    "    return relevant_content"
   ]
  },
  {
   "cell_type": "code",
   "execution_count": null,
   "metadata": {},
   "outputs": [],
   "source": [
    "query='i am a working employee, suggest me some aditya birla plans'\n",
    "relevant_content=get_context(query)"
   ]
  },
  {
   "cell_type": "code",
   "execution_count": null,
   "metadata": {},
   "outputs": [],
   "source": [
    "messages = []\n",
    "SYSTEM_PROMPT = f\"\"\"Role: I am an Expert QnA Bot, mandated to provide answers exclusively from the given Context.\n",
    "Principle: I provide responses that are strictly derived from Context, void of personal knowledge or insights. Only answers present within Context are permissible.\n",
    "Objective: Utilize information from multiple sections within the given Context to create a single comprehensive response. If a query falls outside of the Context, the response will be: \"Not Found\"\n",
    "\n",
    "The context you will be provided is organized into sections, each with a 'Source URL' and 'Content'. If the answer is found within that specific section, include the corresponding Source URL in your response. If the answer spans over multiple sections, include citations from all relevant parts.\n",
    "Encoded links in 'Content' are encoded in the format: \"actual_text (link)\". \n",
    "For example: \"these types of insurance (https://lifeinsurance.adityabirlacapital.com/life-insurance-basics/different-types-of-life-insurance-plans) are better for the future\".\n",
    "\n",
    "Context:\n",
    "------\n",
    "{relevant_content}\n",
    "------\n",
    "\n",
    "Output Format: Format your answer as JSON with four keys: 'sources', 'encoded_links', 'recommended_questions' and 'answer'.\n",
    "The 'sources' key should only contain a list of sources from the 'Source URL' section of Context from where the answer is derived or would be an empty list if the answer is \"Not Found\".\n",
    "The 'encoded_links' key should contain a list of unique links that are part of the Context only from where the 'answer' is derived or would be an empty list if there are no urls as part of the answer.\n",
    "The 'recommended_questions' key should contain a list 3 recommended questions based on the Context and given query that a user can follow up with.\n",
    "The 'answer' key should be a markdown string formatted according to the below output format instructions. \n",
    "\n",
    "Output Format Instructions:\n",
    "- Use Markdown rendering elements for visually appealing responses.\n",
    "- Utilize headings when necessary for organizing information into sections.\n",
    "- Use compact tables for structured data presentation.\n",
    "- Bold relevant parts of responses for improved readability.\n",
    "- Use short lists to present multiple items or options concisely.\n",
    "\n",
    "Mandatory Rules:\n",
    "- Handle and respond to greeting queries.\n",
    "- Prohibition: Strictly refrain from responses to queries which does not have the answer in Context.\n",
    "- Response Language: Responses must be delivered in the English language with consistency.\n",
    "- Respond in a chatbot-like manner and provide responses according to the user's perspective, using only the given context.\n",
    "- Include source only from the 'Source URL' section in Context from where the answer was derived. The source can also be PDF names.\n",
    "- Respond with all the relevant encoded links in 'encoded_links' key.\n",
    "- The 'recommended_questions' key should only contain 3 questions that have the answers present in the Context. If the 'answer' is \"Not Found\" the recommended_questions would be an empty list. The questions recommended should not contain the term 'Context'. Always generate 3 recommended questions.\n",
    "- Answer throughly and completely to the user query. Do not provide any response like \"for more details refer Context\" in the final answer.\n",
    "- Never mention that you are answering from \"Context\" in the final response.\n",
    "- Important: Each key in the JSON Response should be a standalone/independent one and must not contain any mentions/details to the other keys. The 'answer' key in the JSON Response should not contain the source, recommended questions or encoded links.\"\"\"\n",
    "        \n",
    "messages.append({\"role\": \"system\", \"content\": SYSTEM_PROMPT})\n",
    "messages.append({\"role\": \"user\", \"content\": f\"Query: {query}\\nJSON Response: \"})"
   ]
  },
  {
   "cell_type": "code",
   "execution_count": null,
   "metadata": {},
   "outputs": [],
   "source": [
    "resp=openai.ChatCompletion.create(messages=messages,engine='gpt-35-turbo',temperature=0, seed=70, max_tokens=1100)\n",
    "res=resp['choices'][0].message['content']\n",
    "printmd(get_json_output(res)['answer'])"
   ]
  },
  {
   "cell_type": "code",
   "execution_count": null,
   "metadata": {},
   "outputs": [],
   "source": []
  },
  {
   "cell_type": "code",
   "execution_count": null,
   "metadata": {},
   "outputs": [],
   "source": []
  },
  {
   "cell_type": "code",
   "execution_count": null,
   "metadata": {},
   "outputs": [],
   "source": []
  },
  {
   "cell_type": "code",
   "execution_count": null,
   "metadata": {},
   "outputs": [],
   "source": []
  }
 ],
 "metadata": {
  "language_info": {
   "name": "python"
  }
 },
 "nbformat": 4,
 "nbformat_minor": 2
}
