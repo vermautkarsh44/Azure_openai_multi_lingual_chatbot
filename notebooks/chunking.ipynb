{
 "cells": [
  {
   "cell_type": "code",
   "execution_count": 5,
   "metadata": {},
   "outputs": [],
   "source": [
    "import json\n",
    "import os\n",
    "import tiktoken\n",
    "from langchain.text_splitter import RecursiveCharacterTextSplitter\n",
    "import openai\n",
    "import time"
   ]
  },
  {
   "cell_type": "code",
   "execution_count": 6,
   "metadata": {},
   "outputs": [],
   "source": [
    "openai.api_key  = ''\n",
    "openai.api_type = 'azure'\n",
    "openai.api_base = ''\n",
    "openai.api_version = ''"
   ]
  },
  {
   "cell_type": "code",
   "execution_count": 8,
   "metadata": {},
   "outputs": [],
   "source": [
    "encoding = tiktoken.encoding_for_model('gpt-3.5-turbo')\n",
    "\n",
    "def tiktoken_len(text):\n",
    "    tokens=encoding.encode(\n",
    "        text,\n",
    "        disallowed_special=()\n",
    "    )\n",
    "    return len(tokens)\n",
    "\n",
    "text_splitter = RecursiveCharacterTextSplitter(\n",
    "    chunk_size = 2000,\n",
    "    chunk_overlap = 100,\n",
    "    length_function = tiktoken_len\n",
    ")"
   ]
  },
  {
   "cell_type": "code",
   "execution_count": 11,
   "metadata": {},
   "outputs": [],
   "source": [
    "def create_embedding(text):\n",
    "    res=[]\n",
    "    count=len(text)\n",
    "\n",
    "    for i in range(len(text)):\n",
    "        embedding = openai.Embedding.create(input=text[i], engine='text-embedding-ada-002')\n",
    "        embedding = embedding['data'][0]['embedding']\n",
    "        res.append(embedding)\n",
    "        time.sleep(1)\n",
    "        print(i, '/', count, 'done')\n",
    "\n",
    "    if (len(res) == len(text)):\n",
    "        return True, res\n",
    "    \n",
    "    return False, []"
   ]
  },
  {
   "cell_type": "code",
   "execution_count": 9,
   "metadata": {},
   "outputs": [],
   "source": [
    "files = os.listdir('../data/scrapped_data/')"
   ]
  },
  {
   "cell_type": "code",
   "execution_count": 12,
   "metadata": {},
   "outputs": [],
   "source": [
    "succeeded_files = set(os.listdir('../data/all_chunked_data/'))\n",
    "remaining_files = []\n",
    "\n",
    "for file in files:\n",
    "    if (file not in succeeded_files):\n",
    "        remaining_files.append(file)"
   ]
  },
  {
   "cell_type": "code",
   "execution_count": 13,
   "metadata": {},
   "outputs": [
    {
     "data": {
      "text/plain": [
       "1"
      ]
     },
     "execution_count": 13,
     "metadata": {},
     "output_type": "execute_result"
    }
   ],
   "source": [
    "len(remaining_files)"
   ]
  },
  {
   "cell_type": "code",
   "execution_count": null,
   "metadata": {},
   "outputs": [],
   "source": [
    "while (remaining_files!=[]):\n",
    "    for file in remaining_files:\n",
    "        if (file in succeeded_files):\n",
    "            print(f\"{file} already processed!\")\n",
    "            continue\n",
    "\n",
    "        print(file)\n",
    "        with open(f'../data/scrapped_data/{file}') as f:\n",
    "            d = json.load(f)\n",
    "\n",
    "        contents = text_splitter.split_text(d['content'].replace('\\n\\n', '. ', 1))\n",
    "        d['content'] = contents\n",
    "\n",
    "        try:\n",
    "            done, embedding = create_embedding(d['content'])\n",
    "\n",
    "            if(done):\n",
    "                d['content_vector'] = embedding\n",
    "                with open(f'../data/all_chunked_data/{file}', 'w') as f:\n",
    "                    json.dump(d, f)\n",
    "\n",
    "                succeeded_files.add(file)\n",
    "                print(len(succeeded_files), 'done')\n",
    "\n",
    "            else:\n",
    "                print(f\"{file} failed!\")\n",
    "\n",
    "        except Exception as ex:\n",
    "            print(ex)\n",
    "            time.sleep(10)\n",
    "\n",
    "    remaining_files=[]\n",
    "    succeeded_files=set(os.listdir('../data/all_chunked_data/'))\n",
    "\n",
    "    for file in files:\n",
    "        if (file not in succeeded_files):\n",
    "            remaining_files.append(file)"
   ]
  },
  {
   "cell_type": "code",
   "execution_count": null,
   "metadata": {},
   "outputs": [],
   "source": []
  }
 ],
 "metadata": {
  "kernelspec": {
   "display_name": "venv_ct_miner_ml",
   "language": "python",
   "name": "python3"
  },
  "language_info": {
   "codemirror_mode": {
    "name": "ipython",
    "version": 3
   },
   "file_extension": ".py",
   "mimetype": "text/x-python",
   "name": "python",
   "nbconvert_exporter": "python",
   "pygments_lexer": "ipython3",
   "version": "3.10.10"
  }
 },
 "nbformat": 4,
 "nbformat_minor": 2
}
