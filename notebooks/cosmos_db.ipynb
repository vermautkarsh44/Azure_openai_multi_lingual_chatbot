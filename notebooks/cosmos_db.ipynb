{
 "cells": [
  {
   "cell_type": "code",
   "execution_count": 1,
   "metadata": {},
   "outputs": [],
   "source": [
    "import os\n",
    "import json\n",
    "import uuid\n",
    "import pandas as pd\n",
    "from azure.cosmos import CosmosClient\n",
    "import azure.cosmos.documents as documents\n",
    "import azure.cosmos.exceptions as exceptions\n",
    "from azure.cosmos.partition_key import PartitionKey"
   ]
  },
  {
   "cell_type": "code",
   "execution_count": null,
   "metadata": {},
   "outputs": [],
   "source": [
    "COSMOS_ENDPOINT = \"\"\n",
    "COSMOS_KEY = \"\"\n",
    "database_name = \"ct_miner_multi_lingual_db\"\n",
    "container_name = \"conversation-history\"\n",
    "key_path = PartitionKey(path=\"/conversation_id\")"
   ]
  },
  {
   "cell_type": "code",
   "execution_count": null,
   "metadata": {},
   "outputs": [],
   "source": [
    "client=CosmosClient(url=COSMOS_ENDPOINT, credential=COSMOS_KEY)"
   ]
  },
  {
   "cell_type": "code",
   "execution_count": null,
   "metadata": {},
   "outputs": [],
   "source": [
    "client.create_database_if_not_exists(database_name)\n",
    "database = client.get_database_client(database_name)\n",
    "database.create_container_if_not_exists(container_name,partition_key=key_path,offer_throughput=400)\n",
    "container=database.get_container_client(container_name)"
   ]
  },
  {
   "cell_type": "code",
   "execution_count": null,
   "metadata": {},
   "outputs": [],
   "source": [
    "class AzureCosmos():\n",
    "    def __init__(self, endpoint, key):\n",
    "        self.COSMOS_HOST = endpoint\n",
    "        self.COSMOS_MASTER_KEY = key\n",
    "        self.client = CosmosClient(self.COSMOS_HOST, {'masterKey': self.COSMOS_MASTER_KEY})\n",
    "        print(\"[INFO] Cosmos Client created\")\n",
    "\n",
    "    def create_database(self, database_name):\n",
    "        try:\n",
    "            self.client.create_database_if_not_exists(database_name)\n",
    "            print(\"[INFO] database created\")\n",
    "        except Exception as e:\n",
    "            print(\"Error create_database(): \", e)\n",
    "    \n",
    "    def create_container(self, database_name, container_name, partition_key):\n",
    "        try:\n",
    "            self.database = self.client.get_database_client(database_name)\n",
    "            self.database.create_container_if_not_exists(id=container_name, \n",
    "                                                         partition_key=PartitionKey(path=f\"/{partition_key}\"))\n",
    "            print(\"[INFO] container created\")\n",
    "        except Exception as e:\n",
    "            print(\"Error create_container(): \", e)\n",
    "            \n",
    "    def initialize_cosmosdb(self, database_name, container_name):\n",
    "        try:\n",
    "            self.database = self.client.get_database_client(database_name)\n",
    "            self.container = self.database.get_container_client(container_name)\n",
    "            print(\"[INFO] cosmos client created\")\n",
    "        except Exception as e:\n",
    "            print(\"Error initialize_cosmosdb(): \", e)\n",
    "\n",
    "    def query_items(self, database_name, container_name, query):\n",
    "        try:\n",
    "            self.initialize_cosmosdb(database_name, container_name)\n",
    "            results=self.container.query_items(query = query)\n",
    "            return results\n",
    "        except Exception as e:\n",
    "            print(\"Error query_items(): \", e)\n",
    "            return False\n",
    "        \n",
    "    def upsert_item(self, database_name, container_name, data):\n",
    "        try:\n",
    "            self.initialize_cosmosdb(database_name, container_name)\n",
    "            response = self.container.upsert_item(body=data)\n",
    "            print(\"Conversation uploaded to CosmosDB\")\n",
    "        except Exception as e:\n",
    "            print(\"Error upsert_item(): \", e)\n",
    "\n",
    "    def delete_all_items_in_partition(self, database_name, container_name, partition_key):\n",
    "        try:\n",
    "            self.initialize_cosmosdb(database_name, container_name)\n",
    "            ids=[i['id'] for i in (self.container.query_items(f'''SELECT c.id FROM c where c.conversation_id='{partition_key}' '''))]\n",
    "            for id in ids:\n",
    "                container.delete_item(item=id, partition_key=partition_key)\n",
    "\n",
    "        except Exception as e:\n",
    "            print(\"Error delete_all_items_in_partition(): \", e)\n",
    "            return False"
   ]
  },
  {
   "cell_type": "code",
   "execution_count": null,
   "metadata": {},
   "outputs": [],
   "source": [
    "container.upsert_item(body={'id': str(uuid.uuid4()), 'conversation_id': 'utkarsh', 'query': 'hello'})"
   ]
  },
  {
   "cell_type": "code",
   "execution_count": null,
   "metadata": {},
   "outputs": [],
   "source": [
    "ids=[i['id'] for i in (container.query_items('''SELECT c.id FROM c where c.conversation_id = 'utkarsh' '''))]"
   ]
  },
  {
   "cell_type": "code",
   "execution_count": null,
   "metadata": {},
   "outputs": [],
   "source": [
    "for id in ids:\n",
    "    container.delete_item(item=id, partition_key='utkarsh')"
   ]
  },
  {
   "cell_type": "code",
   "execution_count": null,
   "metadata": {},
   "outputs": [],
   "source": []
  }
 ],
 "metadata": {
  "kernelspec": {
   "display_name": "venv_ct_miner_ml",
   "language": "python",
   "name": "python3"
  },
  "language_info": {
   "codemirror_mode": {
    "name": "ipython",
    "version": 3
   },
   "file_extension": ".py",
   "mimetype": "text/x-python",
   "name": "python",
   "nbconvert_exporter": "python",
   "pygments_lexer": "ipython3",
   "version": "3.10.10"
  }
 },
 "nbformat": 4,
 "nbformat_minor": 2
}
