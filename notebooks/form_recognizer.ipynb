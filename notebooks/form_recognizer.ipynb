{
 "cells": [
  {
   "cell_type": "code",
   "execution_count": 4,
   "metadata": {},
   "outputs": [],
   "source": [
    "import sys\n",
    "sys.path.append('../')\n",
    "\n",
    "from azure.core.credentials import AzureKeyCredential\n",
    "from azure.ai.formrecognizer import DocumentAnalysisClient\n",
    "import html\n",
    "import pandas as pd\n",
    "from tabulate import tabulate"
   ]
  },
  {
   "cell_type": "code",
   "execution_count": 5,
   "metadata": {},
   "outputs": [],
   "source": [
    "class FormRecognizer:\n",
    "    def __init__(self, api_key, url):\n",
    "        formrecognizer_creds = AzureKeyCredential(api_key)\n",
    "        self.form_recognizer_client = DocumentAnalysisClient(endpoint=url, credential=formrecognizer_creds, headers={\"x-ms-useragent\": \"azure-search-chat-demo/1.0.0\"})\n",
    "    \n",
    "    def extract_content_from_pdf(self, pdf_path):\n",
    "        with open(pdf_path, \"rb\") as f:\n",
    "            poller = self.form_recognizer_client.begin_analyze_document(\"prebuilt-document\", document = f)\n",
    "        pages = self.process_form_recognizer_results(poller.result())\n",
    "        return pages\n",
    "\n",
    "    def table_to_html(self, table):\n",
    "        table_html = \"<table>\"\n",
    "        rows = [sorted([cell for cell in table.cells if cell.row_index == i], key=lambda cell: cell.column_index) for i in range(table.row_count)]\n",
    "        for row_cells in rows:\n",
    "            table_html += \"<tr>\"\n",
    "            for cell in row_cells:\n",
    "                tag = \"th\" if (cell.kind == \"columnHeader\" or cell.kind == \"rowHeader\") else \"td\"\n",
    "                cell_spans = \"\"\n",
    "                if cell.column_span > 1: cell_spans += f\" colSpan={cell.column_span}\"\n",
    "                if cell.row_span > 1: cell_spans += f\" rowSpan={cell.row_span}\"\n",
    "                table_html += f\"<{tag}{cell_spans}>{html.escape(cell.content)}</{tag}>\"\n",
    "            table_html +=\"</tr>\"\n",
    "        table_html += \"</table>\"\n",
    "        \n",
    "        \n",
    "        df=pd.read_html(table_html)[0]\n",
    "        try:\n",
    "            df.replace(\"\", float(\"NaN\"), inplace=True)\n",
    "            df.dropna(how=\"all\", axis=1, inplace=True)\n",
    "            df.replace(float(\"NaN\"), \"\", inplace=True)\n",
    "            table_str = tabulate(df.to_records(index=False), headers=df.columns, tablefmt=\"github\")\n",
    "            return '##TABLE##\\n'+table_str+'\\n'\n",
    "        except:\n",
    "            print('html encoding')\n",
    "            return '##TABLE##\\n'+table_html+'\\n'\n",
    "    \n",
    "    def process_form_recognizer_results(self, form_recognizer_results):\n",
    "        pages=[]\n",
    "\n",
    "        for page_num, page in enumerate(form_recognizer_results.pages):\n",
    "            tables_on_page = [table for table in form_recognizer_results.tables if table.bounding_regions[0].page_number == page_num + 1]\n",
    "\n",
    "            page_offset = page.spans[0].offset\n",
    "            page_length = page.spans[0].length\n",
    "            table_chars = [-1]*page_length\n",
    "            for table_id, table in enumerate(tables_on_page):\n",
    "                for span in table.spans:\n",
    "                    for i in range(span.length):\n",
    "                        idx = span.offset - page_offset + i\n",
    "                        if idx >=0 and idx < page_length:\n",
    "                            table_chars[idx] = table_id\n",
    "\n",
    "            page_text = \"\"\n",
    "            added_tables = set()\n",
    "            for idx, table_id in enumerate(table_chars):\n",
    "                if table_id == -1:\n",
    "                    page_text += form_recognizer_results.content[page_offset + idx]\n",
    "                elif not table_id in added_tables:\n",
    "                    page_text += self.table_to_html(tables_on_page[table_id])\n",
    "                    added_tables.add(table_id)\n",
    "\n",
    "            page_text += \" \"\n",
    "\n",
    "            pages.append(page_text.replace(':selected:','').replace(':unselected:',''))\n",
    "        \n",
    "        return pages"
   ]
  },
  {
   "cell_type": "code",
   "execution_count": 6,
   "metadata": {},
   "outputs": [
    {
     "ename": "TypeError",
     "evalue": "FormRecognizer.__init__() missing 2 required positional arguments: 'api_key' and 'url'",
     "output_type": "error",
     "traceback": [
      "\u001b[1;31m---------------------------------------------------------------------------\u001b[0m",
      "\u001b[1;31mTypeError\u001b[0m                                 Traceback (most recent call last)",
      "Cell \u001b[1;32mIn[6], line 3\u001b[0m\n\u001b[0;32m      1\u001b[0m \u001b[38;5;66;03m# Example usage\u001b[39;00m\n\u001b[0;32m      2\u001b[0m pdf_path \u001b[38;5;241m=\u001b[39m \u001b[38;5;124m\"\u001b[39m\u001b[38;5;124m../data/ABSLI-Assured-Savings-Plan-Brochure-Web-Version-V07.pdf\u001b[39m\u001b[38;5;124m\"\u001b[39m\n\u001b[1;32m----> 3\u001b[0m form_recognizer_instance \u001b[38;5;241m=\u001b[39m \u001b[43mFormRecognizer\u001b[49m\u001b[43m(\u001b[49m\u001b[43m)\u001b[49m\n\u001b[0;32m      4\u001b[0m result \u001b[38;5;241m=\u001b[39m form_recognizer_instance\u001b[38;5;241m.\u001b[39mextract_content_from_pdf(pdf_path)\n\u001b[0;32m      6\u001b[0m \u001b[38;5;66;03m# Now 'result' is a list where each element contains 'page_number', 'text', and 'html_tables'.\u001b[39;00m\n\u001b[0;32m      7\u001b[0m \u001b[38;5;66;03m# You can access the information for each page in the result list.\u001b[39;00m\n",
      "\u001b[1;31mTypeError\u001b[0m: FormRecognizer.__init__() missing 2 required positional arguments: 'api_key' and 'url'"
     ]
    }
   ],
   "source": [
    "# Example usage\n",
    "pdf_path = \"../data/pdf_data/ABSLI-Assured-Savings-Plan-Brochure-Web-Version-V07.pdf\"\n",
    "form_recognizer_instance = FormRecognizer()\n",
    "result = form_recognizer_instance.extract_content_from_pdf(pdf_path)\n",
    "\n",
    "# Now 'result' is a list where each element contains 'page_number', 'text', and 'html_tables'.\n",
    "# You can access the information for each page in the result list."
   ]
  },
  {
   "cell_type": "code",
   "execution_count": null,
   "metadata": {},
   "outputs": [],
   "source": []
  }
 ],
 "metadata": {
  "kernelspec": {
   "display_name": "venv_ct_miner_ml",
   "language": "python",
   "name": "python3"
  },
  "language_info": {
   "codemirror_mode": {
    "name": "ipython",
    "version": 3
   },
   "file_extension": ".py",
   "mimetype": "text/x-python",
   "name": "python",
   "nbconvert_exporter": "python",
   "pygments_lexer": "ipython3",
   "version": "3.10.10"
  }
 },
 "nbformat": 4,
 "nbformat_minor": 2
}
